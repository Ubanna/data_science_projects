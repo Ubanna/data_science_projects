{
 "cells": [
  {
   "cell_type": "markdown",
   "metadata": {},
   "source": [
    "Review Exercises (#1)\n",
    "\n",
    "Create a ​Pets​ class that holds instances of dogs; this class is completely separate from the Dog​ class. In other words, the ​Dog​ class does not inherit from the ​Pets​ class. Then assign three dog instances to an instance of the ​Pets​ class. Start with the following code below. \n",
    "Save the file as ​pets_class.py.​ \n",
    "\n",
    "Your output should look like this:\n",
    "\n",
    "Starter code:\n",
    " I have 3 dogs.\n",
    " Tom is 6.\n",
    " Fletcher is 7.\n",
    " Larry is 9.\n",
    " And they're all mammals, of course"
   ]
  },
  {
   "cell_type": "code",
   "execution_count": 26,
   "metadata": {
    "scrolled": true
   },
   "outputs": [
    {
     "name": "stdout",
     "output_type": "stream",
     "text": [
      "I have 3 dogs.\n",
      "Tom is 6.\n",
      "Fletcher is 7.\n",
      "Larry is 9.\n",
      "And they're all mammals, ofcourse.\n"
     ]
    }
   ],
   "source": [
    "# Parent class\n",
    "class Dog:\n",
    "    \n",
    "    # attribute\n",
    "    species = \"mammal\"\n",
    "    \n",
    "    # Instance attributes\n",
    "    def __init__(self, name, age):\n",
    "        self.name = name\n",
    "        self.age = age\n",
    "    \n",
    "    # instance methods\n",
    "    def description(self):\n",
    "        return \"{} is {} years old\".format(self.name, self.age)\n",
    "\n",
    "\n",
    "# Child classes (inherits from Dog class)\n",
    "class Spitz(Dog):\n",
    "    def run(self, speed):\n",
    "        return \"{} runs {}\".format(self.name, speed)\n",
    "    \n",
    "class Bulldog(Dog):\n",
    "    def run(self, speed):\n",
    "        return \"{} runs {}\".format(self.name, speed)\n",
    "\n",
    "\n",
    "# Parent class\n",
    "class Pets:\n",
    "    \n",
    "    # Instance attributes\n",
    "    def __init__(self, dogs):\n",
    "        self.dogs = dogs\n",
    "\n",
    "my_dogs = [\n",
    "    Spitz(\"Tom\", 6),\n",
    "    Bulldog(\"Fletcher\", 7),\n",
    "    Dog(\"Larry\", 9),\n",
    "]\n",
    "\n",
    "# Instantiate the Pets class\n",
    "my_pets = Pets(my_dogs)\n",
    "\n",
    "# print results with f string\n",
    "print(f'I have {len(my_pets.dogs)} dogs.')\n",
    "for dog in my_pets.dogs:\n",
    "    print(f'{dog.name} is {dog.age}.')\n",
    "print(f'And they\\'re all {dog.species}s, ofcourse.')\n"
   ]
  },
  {
   "cell_type": "code",
   "execution_count": null,
   "metadata": {},
   "outputs": [],
   "source": []
  }
 ],
 "metadata": {
  "kernelspec": {
   "display_name": "Python 3",
   "language": "python",
   "name": "python3"
  },
  "language_info": {
   "codemirror_mode": {
    "name": "ipython",
    "version": 3
   },
   "file_extension": ".py",
   "mimetype": "text/x-python",
   "name": "python",
   "nbconvert_exporter": "python",
   "pygments_lexer": "ipython3",
   "version": "3.7.6"
  }
 },
 "nbformat": 4,
 "nbformat_minor": 4
}
